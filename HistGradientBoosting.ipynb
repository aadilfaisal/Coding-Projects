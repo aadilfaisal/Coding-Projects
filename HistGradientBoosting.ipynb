{
 "cells": [
  {
   "cell_type": "code",
   "execution_count": 1,
   "id": "81d1fd76-95b2-41cd-a278-df586cba634c",
   "metadata": {},
   "outputs": [
    {
     "name": "stdin",
     "output_type": "stream",
     "text": [
      "Enter the home team:  Brazil\n",
      "Enter the away team:  Uruguay\n"
     ]
    },
    {
     "ename": "IndexError",
     "evalue": "single positional indexer is out-of-bounds",
     "output_type": "error",
     "traceback": [
      "\u001b[1;31m---------------------------------------------------------------------------\u001b[0m",
      "\u001b[1;31mIndexError\u001b[0m                                Traceback (most recent call last)",
      "Cell \u001b[1;32mIn[1], line 74\u001b[0m\n\u001b[0;32m     71\u001b[0m away_team \u001b[38;5;241m=\u001b[39m \u001b[38;5;28minput\u001b[39m(\u001b[38;5;124m\"\u001b[39m\u001b[38;5;124mEnter the away team: \u001b[39m\u001b[38;5;124m\"\u001b[39m)\n\u001b[0;32m     73\u001b[0m \u001b[38;5;66;03m# Prediction for the match\u001b[39;00m\n\u001b[1;32m---> 74\u001b[0m prediction \u001b[38;5;241m=\u001b[39m \u001b[43mpredict_match\u001b[49m\u001b[43m(\u001b[49m\u001b[43mhome_team\u001b[49m\u001b[43m,\u001b[49m\u001b[43m \u001b[49m\u001b[43maway_team\u001b[49m\u001b[43m)\u001b[49m\n\u001b[0;32m     75\u001b[0m \u001b[38;5;28mprint\u001b[39m(\u001b[38;5;124mf\u001b[39m\u001b[38;5;124m\"\u001b[39m\u001b[38;5;124mPrediction for the match between \u001b[39m\u001b[38;5;132;01m{\u001b[39;00mhome_team\u001b[38;5;132;01m}\u001b[39;00m\u001b[38;5;124m and \u001b[39m\u001b[38;5;132;01m{\u001b[39;00maway_team\u001b[38;5;132;01m}\u001b[39;00m\u001b[38;5;124m: \u001b[39m\u001b[38;5;132;01m{\u001b[39;00mprediction\u001b[38;5;132;01m}\u001b[39;00m\u001b[38;5;124m\"\u001b[39m)\n\u001b[0;32m     77\u001b[0m \u001b[38;5;66;03m# Calculate and print accuracy\u001b[39;00m\n",
      "Cell \u001b[1;32mIn[1], line 59\u001b[0m, in \u001b[0;36mpredict_match\u001b[1;34m(home_team, away_team)\u001b[0m\n\u001b[0;32m     57\u001b[0m \u001b[38;5;28;01mif\u001b[39;00m home_team_encoded \u001b[38;5;241m==\u001b[39m \u001b[38;5;241m-\u001b[39m\u001b[38;5;241m1\u001b[39m \u001b[38;5;129;01mor\u001b[39;00m away_team_encoded \u001b[38;5;241m==\u001b[39m \u001b[38;5;241m-\u001b[39m\u001b[38;5;241m1\u001b[39m:\n\u001b[0;32m     58\u001b[0m     \u001b[38;5;28;01mreturn\u001b[39;00m \u001b[38;5;124m\"\u001b[39m\u001b[38;5;124mInvalid team name(s)\u001b[39m\u001b[38;5;124m\"\u001b[39m\n\u001b[1;32m---> 59\u001b[0m home_avg_score \u001b[38;5;241m=\u001b[39m \u001b[43mmatch_data\u001b[49m\u001b[43m[\u001b[49m\u001b[43mmatch_data\u001b[49m\u001b[43m[\u001b[49m\u001b[38;5;124;43m'\u001b[39;49m\u001b[38;5;124;43mhome_team\u001b[39;49m\u001b[38;5;124;43m'\u001b[39;49m\u001b[43m]\u001b[49m\u001b[43m \u001b[49m\u001b[38;5;241;43m==\u001b[39;49m\u001b[43m \u001b[49m\u001b[43mhome_team\u001b[49m\u001b[43m]\u001b[49m\u001b[43m[\u001b[49m\u001b[38;5;124;43m'\u001b[39;49m\u001b[38;5;124;43mhome_avg_score\u001b[39;49m\u001b[38;5;124;43m'\u001b[39;49m\u001b[43m]\u001b[49m\u001b[38;5;241;43m.\u001b[39;49m\u001b[43miloc\u001b[49m\u001b[43m[\u001b[49m\u001b[38;5;241;43m0\u001b[39;49m\u001b[43m]\u001b[49m\n\u001b[0;32m     60\u001b[0m away_avg_score \u001b[38;5;241m=\u001b[39m match_data[match_data[\u001b[38;5;124m'\u001b[39m\u001b[38;5;124maway_team\u001b[39m\u001b[38;5;124m'\u001b[39m] \u001b[38;5;241m==\u001b[39m away_team][\u001b[38;5;124m'\u001b[39m\u001b[38;5;124maway_avg_score\u001b[39m\u001b[38;5;124m'\u001b[39m]\u001b[38;5;241m.\u001b[39miloc[\u001b[38;5;241m0\u001b[39m]\n\u001b[0;32m     61\u001b[0m outcome \u001b[38;5;241m=\u001b[39m model\u001b[38;5;241m.\u001b[39mpredict([[home_avg_score, away_avg_score]])[\u001b[38;5;241m0\u001b[39m]\n",
      "File \u001b[1;32m~\\AppData\\Local\\Programs\\Python\\Python311\\Lib\\site-packages\\pandas\\core\\indexing.py:1191\u001b[0m, in \u001b[0;36m_LocationIndexer.__getitem__\u001b[1;34m(self, key)\u001b[0m\n\u001b[0;32m   1189\u001b[0m maybe_callable \u001b[38;5;241m=\u001b[39m com\u001b[38;5;241m.\u001b[39mapply_if_callable(key, \u001b[38;5;28mself\u001b[39m\u001b[38;5;241m.\u001b[39mobj)\n\u001b[0;32m   1190\u001b[0m maybe_callable \u001b[38;5;241m=\u001b[39m \u001b[38;5;28mself\u001b[39m\u001b[38;5;241m.\u001b[39m_check_deprecated_callable_usage(key, maybe_callable)\n\u001b[1;32m-> 1191\u001b[0m \u001b[38;5;28;01mreturn\u001b[39;00m \u001b[38;5;28;43mself\u001b[39;49m\u001b[38;5;241;43m.\u001b[39;49m\u001b[43m_getitem_axis\u001b[49m\u001b[43m(\u001b[49m\u001b[43mmaybe_callable\u001b[49m\u001b[43m,\u001b[49m\u001b[43m \u001b[49m\u001b[43maxis\u001b[49m\u001b[38;5;241;43m=\u001b[39;49m\u001b[43maxis\u001b[49m\u001b[43m)\u001b[49m\n",
      "File \u001b[1;32m~\\AppData\\Local\\Programs\\Python\\Python311\\Lib\\site-packages\\pandas\\core\\indexing.py:1752\u001b[0m, in \u001b[0;36m_iLocIndexer._getitem_axis\u001b[1;34m(self, key, axis)\u001b[0m\n\u001b[0;32m   1749\u001b[0m     \u001b[38;5;28;01mraise\u001b[39;00m \u001b[38;5;167;01mTypeError\u001b[39;00m(\u001b[38;5;124m\"\u001b[39m\u001b[38;5;124mCannot index by location index with a non-integer key\u001b[39m\u001b[38;5;124m\"\u001b[39m)\n\u001b[0;32m   1751\u001b[0m \u001b[38;5;66;03m# validate the location\u001b[39;00m\n\u001b[1;32m-> 1752\u001b[0m \u001b[38;5;28;43mself\u001b[39;49m\u001b[38;5;241;43m.\u001b[39;49m\u001b[43m_validate_integer\u001b[49m\u001b[43m(\u001b[49m\u001b[43mkey\u001b[49m\u001b[43m,\u001b[49m\u001b[43m \u001b[49m\u001b[43maxis\u001b[49m\u001b[43m)\u001b[49m\n\u001b[0;32m   1754\u001b[0m \u001b[38;5;28;01mreturn\u001b[39;00m \u001b[38;5;28mself\u001b[39m\u001b[38;5;241m.\u001b[39mobj\u001b[38;5;241m.\u001b[39m_ixs(key, axis\u001b[38;5;241m=\u001b[39maxis)\n",
      "File \u001b[1;32m~\\AppData\\Local\\Programs\\Python\\Python311\\Lib\\site-packages\\pandas\\core\\indexing.py:1685\u001b[0m, in \u001b[0;36m_iLocIndexer._validate_integer\u001b[1;34m(self, key, axis)\u001b[0m\n\u001b[0;32m   1683\u001b[0m len_axis \u001b[38;5;241m=\u001b[39m \u001b[38;5;28mlen\u001b[39m(\u001b[38;5;28mself\u001b[39m\u001b[38;5;241m.\u001b[39mobj\u001b[38;5;241m.\u001b[39m_get_axis(axis))\n\u001b[0;32m   1684\u001b[0m \u001b[38;5;28;01mif\u001b[39;00m key \u001b[38;5;241m>\u001b[39m\u001b[38;5;241m=\u001b[39m len_axis \u001b[38;5;129;01mor\u001b[39;00m key \u001b[38;5;241m<\u001b[39m \u001b[38;5;241m-\u001b[39mlen_axis:\n\u001b[1;32m-> 1685\u001b[0m     \u001b[38;5;28;01mraise\u001b[39;00m \u001b[38;5;167;01mIndexError\u001b[39;00m(\u001b[38;5;124m\"\u001b[39m\u001b[38;5;124msingle positional indexer is out-of-bounds\u001b[39m\u001b[38;5;124m\"\u001b[39m)\n",
      "\u001b[1;31mIndexError\u001b[0m: single positional indexer is out-of-bounds"
     ]
    }
   ],
   "source": [
    "import pandas as pd\n",
    "from sklearn.model_selection import train_test_split\n",
    "from sklearn.ensemble import HistGradientBoostingClassifier\n",
    "from sklearn.metrics import accuracy_score\n",
    "\n",
    "# Load historical match data from CSV file\n",
    "match_data = pd.read_csv('matches.csv')\n",
    "\n",
    "# Preprocess date attribute\n",
    "match_data['Datetime'] = pd.to_datetime(match_data['Datetime'].str.split(' - ', expand=True)[0])\n",
    "\n",
    "# Sort match data by date\n",
    "match_data = match_data.sort_values(by='Datetime', ascending=False)\n",
    "\n",
    "# Function to calculate average scores of the last 5 matches for a team\n",
    "def get_last_5_avg_scores(team, matches):\n",
    "    team_matches = matches[(matches['home_team'] == team) | (matches['away_team'] == team)]\n",
    "    last_5_matches = team_matches.head(5)\n",
    "    avg_home_score = last_5_matches[last_5_matches['home_team'] == team]['Home Team Goals'].mean()\n",
    "    avg_away_score = last_5_matches[last_5_matches['away_team'] == team]['Away Team Goals'].mean()\n",
    "    return avg_home_score, avg_away_score\n",
    "\n",
    "# Function to encode team names\n",
    "def encode_team(team):\n",
    "    if team in team_encoder:\n",
    "        return team_encoder[team]\n",
    "    else:\n",
    "        return -1\n",
    "\n",
    "# Encode team names\n",
    "team_encoder = {team: i for i, team in enumerate(match_data['home_team'].unique())}\n",
    "match_data['home_team_encoded'] = match_data['home_team'].apply(encode_team)\n",
    "match_data['away_team_encoded'] = match_data['away_team'].apply(encode_team)\n",
    "\n",
    "# Calculate average scores for each team\n",
    "match_data['home_avg_score'], match_data['away_avg_score'] = zip(*match_data.apply(\n",
    "    lambda x: get_last_5_avg_scores(x['home_team'], match_data), axis=1))\n",
    "\n",
    "# Drop rows with missing values\n",
    "match_data.dropna(inplace=True)\n",
    "\n",
    "# Extract relevant features and target variable\n",
    "X = match_data[['home_avg_score', 'away_avg_score']]\n",
    "y = match_data['outcome']\n",
    "\n",
    "# Split data into training and testing sets\n",
    "X_train, X_test, y_train, y_test = train_test_split(X, y, test_size=0.2, random_state=42)\n",
    "\n",
    "# Train a HistGradientBoostingClassifier model\n",
    "model = HistGradientBoostingClassifier()\n",
    "model.fit(X_train, y_train)\n",
    "\n",
    "# Function to predict the outcome of a match\n",
    "def predict_match(home_team, away_team):\n",
    "    home_team_encoded = encode_team(home_team)\n",
    "    away_team_encoded = encode_team(away_team)\n",
    "    if home_team_encoded == -1 or away_team_encoded == -1:\n",
    "        return \"Invalid team name(s)\"\n",
    "    home_avg_score = match_data[match_data['home_team'] == home_team]['home_avg_score'].iloc[0]\n",
    "    away_avg_score = match_data[match_data['away_team'] == away_team]['away_avg_score'].iloc[0]\n",
    "    outcome = model.predict([[home_avg_score, away_avg_score]])[0]\n",
    "    if outcome == 1:\n",
    "        return f\"{home_team} wins\"\n",
    "    elif outcome == 0:\n",
    "        return \"It's a draw\"\n",
    "    else:\n",
    "        return f\"{away_team} wins\"\n",
    "\n",
    "# User input for home and away teams\n",
    "home_team = input(\"Enter the home team: \")\n",
    "away_team = input(\"Enter the away team: \")\n",
    "\n",
    "# Prediction for the match\n",
    "prediction = predict_match(home_team, away_team)\n",
    "print(f\"Prediction for the match between {home_team} and {away_team}: {prediction}\")\n",
    "\n",
    "# Calculate and print accuracy\n",
    "y_pred = model.predict(X_test)\n",
    "accuracy = accuracy_score(y_test, y_pred)\n",
    "print(\"Accuracy:\", accuracy)\n"
   ]
  },
  {
   "cell_type": "code",
   "execution_count": null,
   "id": "450303bb-64c0-4cdc-991b-c2a2fbf960e2",
   "metadata": {},
   "outputs": [],
   "source": []
  }
 ],
 "metadata": {
  "kernelspec": {
   "display_name": "Python 3 (ipykernel)",
   "language": "python",
   "name": "python3"
  },
  "language_info": {
   "codemirror_mode": {
    "name": "ipython",
    "version": 3
   },
   "file_extension": ".py",
   "mimetype": "text/x-python",
   "name": "python",
   "nbconvert_exporter": "python",
   "pygments_lexer": "ipython3",
   "version": "3.11.3"
  }
 },
 "nbformat": 4,
 "nbformat_minor": 5
}
