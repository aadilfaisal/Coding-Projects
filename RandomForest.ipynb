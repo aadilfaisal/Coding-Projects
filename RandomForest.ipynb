{
 "cells": [
  {
   "cell_type": "code",
   "execution_count": 8,
   "id": "6e5b4513-bdc5-4f85-99e8-278e307c0f0d",
   "metadata": {},
   "outputs": [
    {
     "name": "stdin",
     "output_type": "stream",
     "text": [
      "Enter the home team:  Peru\n",
      "Enter the away team:  England\n"
     ]
    },
    {
     "name": "stdout",
     "output_type": "stream",
     "text": [
      "Prediction for the match between Peru and England: England wins\n",
      "Accuracy: 0.52046783625731\n"
     ]
    },
    {
     "name": "stderr",
     "output_type": "stream",
     "text": [
      "C:\\Users\\aadil\\AppData\\Local\\Programs\\Python\\Python311\\Lib\\site-packages\\sklearn\\base.py:493: UserWarning: X does not have valid feature names, but RandomForestClassifier was fitted with feature names\n",
      "  warnings.warn(\n"
     ]
    }
   ],
   "source": [
    "import pandas as pd\n",
    "from sklearn.model_selection import train_test_split\n",
    "from sklearn.ensemble import RandomForestClassifier\n",
    "from sklearn.metrics import accuracy_score\n",
    "\n",
    "# Load historical match data from CSV file\n",
    "match_data = pd.read_csv('matches.csv')\n",
    "\n",
    "# Preprocess date attribute\n",
    "match_data['Datetime'] = pd.to_datetime(match_data['Datetime'].str.split(' - ', expand=True)[0])\n",
    "\n",
    "# Sort match data by date\n",
    "match_data = match_data.sort_values(by='Datetime', ascending=False)\n",
    "\n",
    "# Function to calculate average scores of the last 5 matches for a team\n",
    "def get_last_5_avg_scores(team, matches):\n",
    "    team_matches = matches[(matches['home_team'] == team) | (matches['away_team'] == team)]\n",
    "    last_5_matches = team_matches.head(5)\n",
    "    avg_home_score = last_5_matches[last_5_matches['home_team'] == team]['Home Team Goals'].mean()\n",
    "    avg_away_score = last_5_matches[last_5_matches['away_team'] == team]['Away Team Goals'].mean()\n",
    "    return avg_home_score, avg_away_score\n",
    "\n",
    "# Function to encode team names\n",
    "def encode_team(team):\n",
    "    if team in team_encoder:\n",
    "        return team_encoder[team]\n",
    "    else:\n",
    "        return -1\n",
    "\n",
    "# Encode team names\n",
    "team_encoder = {team: i for i, team in enumerate(match_data['home_team'].unique())}\n",
    "match_data['home_team_encoded'] = match_data['home_team'].apply(encode_team)\n",
    "match_data['away_team_encoded'] = match_data['away_team'].apply(encode_team)\n",
    "\n",
    "# Calculate average scores for each team\n",
    "match_data['home_avg_score'], match_data['away_avg_score'] = zip(*match_data.apply(\n",
    "    lambda x: get_last_5_avg_scores(x['home_team'], match_data), axis=1))\n",
    "\n",
    "# Extract relevant features and target variable\n",
    "X = match_data[['home_avg_score', 'away_avg_score']]\n",
    "y = match_data['outcome']\n",
    "\n",
    "# Split data into training and testing sets\n",
    "X_train, X_test, y_train, y_test = train_test_split(X, y, test_size=0.2, random_state=42)\n",
    "\n",
    "# Train a Random Forest Classifier model\n",
    "model = RandomForestClassifier()\n",
    "model.fit(X_train, y_train)\n",
    "\n",
    "# Function to predict the outcome of a match\n",
    "def predict_match(home_team, away_team):\n",
    "    home_team_encoded = encode_team(home_team)\n",
    "    away_team_encoded = encode_team(away_team)\n",
    "    if home_team_encoded == -1 or away_team_encoded == -1:\n",
    "        return \"Invalid team name(s)\"\n",
    "    home_avg_score = match_data[match_data['home_team'] == home_team]['home_avg_score'].iloc[0]\n",
    "    away_avg_score = match_data[match_data['away_team'] == away_team]['away_avg_score'].iloc[0]\n",
    "    outcome = model.predict([[home_avg_score, away_avg_score]])[0]\n",
    "    if outcome == 1:\n",
    "        return f\"{home_team} wins\"\n",
    "    elif outcome == 0:\n",
    "        return \"It's a draw\"\n",
    "    else:\n",
    "        return f\"{away_team} wins\"\n",
    "\n",
    "# User input for home and away teams\n",
    "home_team = input(\"Enter the home team: \")\n",
    "away_team = input(\"Enter the away team: \")\n",
    "\n",
    "# Prediction for the match\n",
    "prediction = predict_match(home_team, away_team)\n",
    "print(f\"Prediction for the match between {home_team} and {away_team}: {prediction}\")\n",
    "\n",
    "# Calculate and print accuracy\n",
    "y_pred = model.predict(X_test)\n",
    "accuracy = accuracy_score(y_test, y_pred)\n",
    "print(\"Accuracy:\", accuracy)\n"
   ]
  },
  {
   "cell_type": "code",
   "execution_count": null,
   "id": "1e362900-65bc-48c9-96b3-f476e5cb5b07",
   "metadata": {},
   "outputs": [],
   "source": []
  }
 ],
 "metadata": {
  "kernelspec": {
   "display_name": "Python 3 (ipykernel)",
   "language": "python",
   "name": "python3"
  },
  "language_info": {
   "codemirror_mode": {
    "name": "ipython",
    "version": 3
   },
   "file_extension": ".py",
   "mimetype": "text/x-python",
   "name": "python",
   "nbconvert_exporter": "python",
   "pygments_lexer": "ipython3",
   "version": "3.11.3"
  }
 },
 "nbformat": 4,
 "nbformat_minor": 5
}
